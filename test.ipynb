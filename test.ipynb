{
 "cells": [
  {
   "cell_type": "code",
   "execution_count": 12,
   "metadata": {
    "collapsed": false
   },
   "outputs": [],
   "source": [
    "import networkx as nx\n",
    "import matplotlib.pyplot as plt\n",
    "import datetime"
   ]
  },
  {
   "cell_type": "code",
   "execution_count": 13,
   "metadata": {
    "collapsed": false
   },
   "outputs": [],
   "source": [
    "G = nx.MultiGraph()\n",
    "G.add_nodes_from(['a','b','c','d','e','f','g','h'])\n",
    "G.add_edges_from([('a','b'),('a','c'),('b','d'),('c','e'),('c','d'),('d','f'),('f','e'),('e','g')])"
   ]
  },
  {
   "cell_type": "code",
   "execution_count": 14,
   "metadata": {
    "collapsed": false
   },
   "outputs": [
    {
     "name": "stdout",
     "output_type": "stream",
     "text": [
      "0 번째 2017-03-07 09:02:30.839093\n",
      "1 번째 2017-03-07 09:02:30.839611\n",
      "2 번째 2017-03-07 09:02:30.840169\n"
     ]
    }
   ],
   "source": [
    "i=0\n",
    "while(1):\n",
    "    print(i,\"번째\",datetime.datetime.utcnow())\n",
    "    i += 1\n",
    "    remove_edge_list = []\n",
    "    edge_btw = nx.edge_betweenness_centrality(G)\n",
    "    \n",
    "    if len(set(edge_btw.values())) == 1:\n",
    "        break\n",
    "    \n",
    "    else:\n",
    "        for k,v in edge_btw.items():\n",
    "            if v == max(edge_btw.values()):\n",
    "                remove_edge_list.append(k)\n",
    "        G.remove_edges_from(remove_edge_list)"
   ]
  },
  {
   "cell_type": "code",
   "execution_count": 15,
   "metadata": {
    "collapsed": false
   },
   "outputs": [
    {
     "name": "stderr",
     "output_type": "stream",
     "text": [
      "/home/seojayoung/miniconda3/envs/ml_python/lib/python3.5/site-packages/networkx/drawing/nx_pylab.py:126: MatplotlibDeprecationWarning: pyplot.hold is deprecated.\n",
      "    Future behavior will be consistent with the long-time default:\n",
      "    plot commands add elements without first clearing the\n",
      "    Axes and/or Figure.\n",
      "  b = plt.ishold()\n",
      "/home/seojayoung/miniconda3/envs/ml_python/lib/python3.5/site-packages/networkx/drawing/nx_pylab.py:138: MatplotlibDeprecationWarning: pyplot.hold is deprecated.\n",
      "    Future behavior will be consistent with the long-time default:\n",
      "    plot commands add elements without first clearing the\n",
      "    Axes and/or Figure.\n",
      "  plt.hold(b)\n",
      "/home/seojayoung/miniconda3/envs/ml_python/lib/python3.5/site-packages/matplotlib/__init__.py:917: UserWarning: axes.hold is deprecated. Please remove it from your matplotlibrc and/or style files.\n",
      "  warnings.warn(self.msg_depr_set % key)\n",
      "/home/seojayoung/miniconda3/envs/ml_python/lib/python3.5/site-packages/matplotlib/rcsetup.py:152: UserWarning: axes.hold is deprecated, will be removed in 3.0\n",
      "  warnings.warn(\"axes.hold is deprecated, will be removed in 3.0\")\n"
     ]
    },
    {
     "data": {
      "image/png": "[encoded data removed]",
      "text/plain": [
       "<matplotlib.figure.Figure at 0x7fb90b396c18>"
      ]
     },
     "metadata": {},
     "output_type": "display_data"
    }
   ],
   "source": [
    "nx.draw(G, font_size=20, with_labels=['a','b','c','d','e','f'])\n",
    "plt.show()"
   ]
  },
  {
   "cell_type": "code",
   "execution_count": 43,
   "metadata": {
    "collapsed": false
   },
   "outputs": [
    {
     "name": "stdout",
     "output_type": "stream",
     "text": [
      "{'e': ['f', 'g'], 'c': ['a', 'd'], 'f': ['e'], 'g': ['e'], 'a': ['c', 'b'], 'd': ['c', 'b'], 'b': ['a', 'd'], 'h': []}\n"
     ]
    }
   ],
   "source": [
    "connected_graph = nx.to_dict_of_lists(G)\n",
    "print(connected_graph)"
   ]
  },
  {
   "cell_type": "code",
   "execution_count": 44,
   "metadata": {
    "collapsed": false
   },
   "outputs": [
    {
     "name": "stdout",
     "output_type": "stream",
     "text": [
      "['h']\n"
     ]
    }
   ],
   "source": [
    "del_key = []\n",
    "\n",
    "for k,v in connected_graph.items():\n",
    "    if v == []:\n",
    "        del_key.append(k)\n",
    "\n",
    "print(del_key)"
   ]
  },
  {
   "cell_type": "code",
   "execution_count": 45,
   "metadata": {
    "collapsed": true
   },
   "outputs": [],
   "source": [
    "for k in del_key:\n",
    "    del connected_graph[k]"
   ]
  },
  {
   "cell_type": "code",
   "execution_count": 46,
   "metadata": {
    "collapsed": false
   },
   "outputs": [
    {
     "data": {
      "text/plain": [
       "{'a': ['c', 'b'],\n",
       " 'b': ['a', 'd'],\n",
       " 'c': ['a', 'd'],\n",
       " 'd': ['c', 'b'],\n",
       " 'e': ['f', 'g'],\n",
       " 'f': ['e'],\n",
       " 'g': ['e']}"
      ]
     },
     "execution_count": 46,
     "metadata": {},
     "output_type": "execute_result"
    }
   ],
   "source": [
    "connected_graph"
   ]
  },
  {
   "cell_type": "code",
   "execution_count": 69,
   "metadata": {
    "collapsed": false
   },
   "outputs": [],
   "source": [
    "inventor_list = set(['a','b','c','d','e','f','g','h'])\n",
    "set_del_key = set(del_key)"
   ]
  },
  {
   "cell_type": "code",
   "execution_count": 71,
   "metadata": {
    "collapsed": false
   },
   "outputs": [
    {
     "name": "stdout",
     "output_type": "stream",
     "text": [
      "{'e', 'g', 'c', 'f', 'a', 'b', 'd'}\n"
     ]
    }
   ],
   "source": [
    "inventor = inventor_list - set_del_key\n",
    "print(inventor)"
   ]
  },
  {
   "cell_type": "code",
   "execution_count": 77,
   "metadata": {
    "collapsed": false
   },
   "outputs": [],
   "source": [
    "def connected_components(nodes):\n",
    "    \n",
    "    result = []\n",
    "    nodes = set(nodes)\n",
    "            \n",
    "    while nodes:\n",
    "        \n",
    "        n = nodes.pop()\n",
    "        group = {n}\n",
    "        queue = [n]\n",
    "\n",
    "        while queue:\n",
    "\n",
    "            n = queue.pop(0)\n",
    "            neighbors = set(connected_graph[n])\n",
    "\n",
    "            neighbors.difference_update(group)\n",
    "            nodes.difference_update(neighbors)\n",
    "            group.update(neighbors)\n",
    "            queue.extend(neighbors)\n",
    "            \n",
    "        result.append(group)\n",
    "    \n",
    "    return result\n",
    "    \n",
    "all_group = []\n",
    "number = 1\n",
    "for components in connected_components(inventor):\n",
    "    names = sorted(node for node in components)\n",
    "    group = list(names)\n",
    "    all_group.append(group)\n",
    "    number += 1"
   ]
  },
  {
   "cell_type": "code",
   "execution_count": 78,
   "metadata": {
    "collapsed": false
   },
   "outputs": [
    {
     "data": {
      "text/plain": [
       "[['e', 'f', 'g'], ['a', 'b', 'c', 'd']]"
      ]
     },
     "execution_count": 78,
     "metadata": {},
     "output_type": "execute_result"
    }
   ],
   "source": [
    "all_group"
   ]
  },
  {
   "cell_type": "code",
   "execution_count": 79,
   "metadata": {
    "collapsed": false
   },
   "outputs": [
    {
     "data": {
      "text/plain": [
       "['c', 'b']"
      ]
     },
     "execution_count": 79,
     "metadata": {},
     "output_type": "execute_result"
    }
   ],
   "source": [
    "G.neighbors('a')"
   ]
  }
 ],
 "metadata": {
  "kernelspec": {
   "display_name": "Python 3",
   "language": "python",
   "name": "python3"
  },
  "language_info": {
   "codemirror_mode": {
    "name": "ipython",
    "version": 3
   },
   "file_extension": ".py",
   "mimetype": "text/x-python",
   "name": "python",
   "nbconvert_exporter": "python",
   "pygments_lexer": "ipython3",
   "version": "3.5.2"
  }
 },
 "nbformat": 4,
 "nbformat_minor": 2
}
